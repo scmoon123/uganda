{
 "cells": [
  {
   "cell_type": "code",
   "execution_count": 4,
   "metadata": {},
   "outputs": [
    {
     "name": "stderr",
     "output_type": "stream",
     "text": [
      "[nltk_data] Downloading package punkt to /Users/sunmoon/nltk_data...\n",
      "[nltk_data]   Package punkt is already up-to-date!\n",
      "[nltk_data] Downloading package stopwords to\n",
      "[nltk_data]     /Users/sunmoon/nltk_data...\n",
      "[nltk_data]   Package stopwords is already up-to-date!\n"
     ]
    },
    {
     "name": "stdout",
     "output_type": "stream",
     "text": [
      "[('names', 0.8297750353813171), ('could', 0.7967355847358704), ('tittle', 0.7862040400505066), ('signed', 0.7795634865760803), ('refused', 0.7756777405738831), ('name', 0.768436849117279), ('purpose', 0.7683154940605164), ('papers', 0.7647914290428162), ('automatic', 0.754810631275177), ('accept', 0.7531217932701111)]\n",
      "[('sign', 0.7202320098876953)]\n",
      "[('government', 0.6904069781303406), ('worried', 0.6890232563018799), ('know', 0.6562948822975159), ('saying', 0.6535388827323914), ('stolen', 0.6529539227485657), ('fake', 0.6437405347824097), ('chance', 0.63899827003479), ('nobody', 0.6382966041564941), ('scared', 0.6379045844078064), ('push', 0.6355583071708679)]\n"
     ]
    }
   ],
   "source": [
    "import docx\n",
    "import re\n",
    "import os\n",
    "from gensim.models import Word2Vec\n",
    "from gensim.utils import simple_preprocess\n",
    "import nltk\n",
    "nltk.download('punkt')\n",
    "nltk.download('stopwords')\n",
    "from nltk.corpus import stopwords\n",
    "import numpy as np\n",
    "\n",
    "# Setup NLTK stopwords\n",
    "stop_words = set(stopwords.words('english'))\n",
    "\n",
    "def read_docx(file_path):\n",
    "    \"\"\"\n",
    "    Reads a .docx file and returns its text content.\n",
    "    \"\"\"\n",
    "    doc = docx.Document(file_path)\n",
    "    full_text = []\n",
    "    for para in doc.paragraphs:\n",
    "        full_text.append(para.text)\n",
    "    return '\\n'.join(full_text)\n",
    "\n",
    "def preprocess_text(text):\n",
    "    \"\"\"\n",
    "    Cleans and preprocesses the input text.\n",
    "    \"\"\"\n",
    "    duration_index = text.find(\"Duration:\")\n",
    "    if duration_index != -1:\n",
    "        text = text[duration_index:]\n",
    "\n",
    "    text = re.sub(r'\\b\\d{1,2}:\\d{2}:\\d{2}\\b', '', text)\n",
    "    text = re.sub(r'\\b[I|R]:\\b', '', text)\n",
    "\n",
    "    cleaned_sentences = []\n",
    "    sentences = nltk.sent_tokenize(text)\n",
    "    for sentence in sentences:\n",
    "        tokens = simple_preprocess(sentence, deacc=True)\n",
    "        filtered_tokens = [word for word in tokens if word not in stop_words]\n",
    "        cleaned_sentences.append(filtered_tokens)\n",
    "    \n",
    "    return cleaned_sentences\n",
    "\n",
    "def process_directory(directory_path):\n",
    "    \"\"\"\n",
    "    Process all .docx files in the given directory, skipping temporary files,\n",
    "    and return cleaned sentences.\n",
    "    \"\"\"\n",
    "    all_cleaned_sentences = []\n",
    "    for filename in os.listdir(directory_path):\n",
    "        if filename.endswith(\".docx\") and not filename.startswith(\"~$\"):\n",
    "            file_path = os.path.join(directory_path, filename)\n",
    "            text = read_docx(file_path)\n",
    "            preprocessed_text = preprocess_text(text)\n",
    "            all_cleaned_sentences.extend(preprocessed_text)\n",
    "    return all_cleaned_sentences\n",
    "\n",
    "# Directory containing your .docx files\n",
    "directory_path = '/Users/sunmoon/Desktop/interviews'\n",
    "\n",
    "# Process the directory and get all cleaned sentences\n",
    "all_cleaned_sentences = process_directory(directory_path)\n",
    "\n",
    "# Train a Word2Vec model with the cleaned sentences\n",
    "model = Word2Vec(all_cleaned_sentences, vector_size=100, window=5, min_count=2, workers=4)\n",
    "\n",
    "# Correctly specify the model save path and save the model\n",
    "model_save_path = '/Users/sunmoon/Desktop/word2vec_model.model'\n",
    "model.save(model_save_path)\n",
    "\n",
    "# Example of how to use the model, e.g., finding most similar words\n",
    "similar_words = model.wv.most_similar('title', topn=10)\n",
    "print(similar_words)\n",
    "\n",
    "result_conditional = model.wv.most_similar(positive=['wife', 'title'], negative=['husband'], topn=1)\n",
    "print(result_conditional)\n",
    "result = model.wv.most_similar(positive=['husband', 'title'], negative=['wife'], topn=10)\n",
    "print(result)"
   ]
  },
  {
   "cell_type": "code",
   "execution_count": 16,
   "metadata": {},
   "outputs": [
    {
     "name": "stdout",
     "output_type": "stream",
     "text": [
      "Similarity between document 1 and document 2: 0.5571809717740717\n"
     ]
    }
   ],
   "source": [
    "def document_vector(doc):\n",
    "    \"\"\"Create a vector for a document by averaging all word vectors in the document.\"\"\"\n",
    "    words = [word for word in doc if word in model.wv.key_to_index]\n",
    "    if len(words) >= 1:\n",
    "        return np.mean(model.wv[words], axis=0)\n",
    "    else:\n",
    "        return []\n",
    "\n",
    "# Example usage\n",
    "doc_vectors = [document_vector(doc) for doc in all_cleaned_sentences]\n",
    "\n",
    "from scipy import spatial\n",
    "\n",
    "def cosine_similarity(vec1, vec2):\n",
    "    \"\"\"Calculate the cosine similarity between two vectors.\"\"\"\n",
    "    return 1 - spatial.distance.cosine(vec1, vec2)\n",
    "\n",
    "# Example: Calculate similarity between the first and second documents\n",
    "similarity = cosine_similarity(doc_vectors[0], doc_vectors[1])\n",
    "print(f\"Similarity between document 1 and document 2: {similarity}\")\n"
   ]
  }
 ],
 "metadata": {
  "kernelspec": {
   "display_name": "Python 3",
   "language": "python",
   "name": "python3"
  },
  "language_info": {
   "codemirror_mode": {
    "name": "ipython",
    "version": 3
   },
   "file_extension": ".py",
   "mimetype": "text/x-python",
   "name": "python",
   "nbconvert_exporter": "python",
   "pygments_lexer": "ipython3",
   "version": "3.12.2"
  }
 },
 "nbformat": 4,
 "nbformat_minor": 2
}
